{
  "nbformat": 4,
  "nbformat_minor": 0,
  "metadata": {
    "colab": {
      "provenance": [],
      "mount_file_id": "1Ej_S2CaKnJ885k-G2vcWjq6CSCxH6nS2",
      "authorship_tag": "ABX9TyMGMyk8/lKqtKfarzbiR7nk",
      "include_colab_link": true
    },
    "kernelspec": {
      "name": "python3",
      "display_name": "Python 3"
    },
    "language_info": {
      "name": "python"
    }
  },
  "cells": [
    {
      "cell_type": "markdown",
      "metadata": {
        "id": "view-in-github",
        "colab_type": "text"
      },
      "source": [
        "<a href=\"https://colab.research.google.com/github/ProfDoof/advent_of_code/blob/2022/day3.ipynb\" target=\"_parent\"><img src=\"https://colab.research.google.com/assets/colab-badge.svg\" alt=\"Open In Colab\"/></a>"
      ]
    },
    {
      "cell_type": "markdown",
      "source": [
        "# Day 3\n",
        "## Load Data"
      ],
      "metadata": {
        "id": "ndJpHy9AKZZ2"
      }
    },
    {
      "cell_type": "code",
      "execution_count": 1,
      "metadata": {
        "id": "4C2MqsfbC37K"
      },
      "outputs": [],
      "source": [
        "from pathlib import Path\n",
        "\n",
        "DAY = 3\n",
        "DATA_FILE = Path.cwd() / 'drive' / 'MyDrive' / 'AdventOfCode' / 'aoc_data' / f'day{DAY}.txt'\n",
        "\n",
        "data = DATA_FILE.read_text()"
      ]
    },
    {
      "cell_type": "markdown",
      "source": [
        "## Prompt"
      ],
      "metadata": {
        "id": "i2jSIZrkKdaA"
      }
    },
    {
      "cell_type": "markdown",
      "source": [
        "One Elf has the important job of loading all of the rucksacks with supplies for the jungle journey. Unfortunately, that Elf didn't quite follow the packing instructions, and so a few items now need to be rearranged.\n",
        "\n",
        "Each rucksack has two large **compartments**. All items of a given type are meant to go into exactly one of the two compartments. The Elf that did the packing failed to follow this rule for exactly one item type per rucksack.\n",
        "\n",
        "The Elves have made a list of all of the items currently in each rucksack (your puzzle input), but they need your help finding the errors. Every item type is identified by a single lowercase or uppercase letter (that is, `a` and `A` refer to different types of items).\n",
        "\n",
        "The list of items for each rucksack is given as characters all on a single line. A given rucksack always has the same number of items in each of its two compartments, so the first half of the characters represent items in the first compartment, while the second half of the characters represent items in the second compartment.\n",
        "\n",
        "For example, suppose you have the following list of contents from six rucksacks:\n",
        "\n",
        "```\n",
        "vJrwpWtwJgWrhcsFMMfFFhFp\n",
        "jqHRNqRjqzjGDLGLrsFMfFZSrLrFZsSL\n",
        "PmmdzqPrVvPwwTWBwg\n",
        "wMqvLMZHhHMvwLHjbvcjnnSBnvTQFn\n",
        "ttgJtRGJQctTZtZT\n",
        "CrZsJsPPZsGzwwsLwLmpwMDw\n",
        "```\n",
        "\n",
        " - The first rucksack contains the items `vJrwpWtwJgWrhcsFMMfFFhFp`, which means its first compartment contains the items `vJrwpWtwJgWr`, while the second compartment contains the items `hcsFMMfFFhFp`. The only item type that appears in both compartments is lowercase `p`.\n",
        " - The second rucksack's compartments contain `jqHRNqRjqzjGDLGL` and `rsFMfFZSrLrFZsSL`. The only item type that appears in both compartments is uppercase `L`.\n",
        " - The third rucksack's compartments contain `PmmdzqPrV` and `vPwwTWBwg`; the only common item type is uppercase `P`.\n",
        " - The fourth rucksack's compartments only share item type `v`.\n",
        " - The fifth rucksack's compartments only share item type `t`.\n",
        " - The sixth rucksack's compartments only share item type `s`.\n",
        "\n",
        "To help prioritize item rearrangement, every item type can be converted to a priority:\n",
        "\n",
        " - Lowercase item types `a` through `z` have priorities 1 through 26.\n",
        " - Uppercase item types `A` through `Z` have priorities 27 through 52.\n",
        "\n",
        "In the above example, the priority of the item type that appears in both compartments of each rucksack is 16 (`p`), 38 (`L`), 42 (`P`), 22 (`v`), 20 (`t`), and 19 (`s`); the sum of these is **`157`**.\n",
        "\n",
        "Find the item type that appears in both compartments of each rucksack. What is the sum of the priorities of those item types?"
      ],
      "metadata": {
        "id": "k6lJLwjxKf74"
      }
    },
    {
      "cell_type": "code",
      "source": [
        "def priority(item):\n",
        "    if ord(item) < ord('a'):\n",
        "        return ord(item) - ord('A') + 27\n",
        "    return ord(item) - ord('a') + 1\n",
        "\n",
        "total = 0\n",
        "\n",
        "for line in data.split('\\n'):\n",
        "    line = line.strip()\n",
        "    compartment_1 = set(line[:len(line) // 2])\n",
        "    compartment_2 = set(line[len(line) // 2:])\n",
        "    unique_elements = compartment_1 & compartment_2\n",
        "    unique_elements = list(unique_elements)\n",
        "    if len(unique_elements) == 1:\n",
        "        total += priority(unique_elements[0])\n",
        "\n",
        "print(total)"
      ],
      "metadata": {
        "colab": {
          "base_uri": "https://localhost:8080/"
        },
        "id": "Sq9Ba0GaL-ol",
        "outputId": "1f53dfcb-7e5c-408a-e0c1-cde3ef795436"
      },
      "execution_count": 16,
      "outputs": [
        {
          "output_type": "stream",
          "name": "stdout",
          "text": [
            "8039\n"
          ]
        }
      ]
    },
    {
      "cell_type": "code",
      "source": [
        "import itertools\n",
        "import functools\n",
        "\n",
        "total = 0\n",
        "\n",
        "split_data = data.split('\\n')\n",
        "it = iter(split_data)\n",
        "\n",
        "for rucksacks in zip(it, it, it):\n",
        "    rucksacks = [set(rucksack.strip()) for rucksack in rucksacks]\n",
        "    unique_items = list(functools.reduce(lambda x, y: x & y, rucksacks))\n",
        "    if len(unique_items) == 1:\n",
        "        total += priority(unique_items[0])\n",
        "\n",
        "print(total)"
      ],
      "metadata": {
        "colab": {
          "base_uri": "https://localhost:8080/"
        },
        "id": "dLa0-GR7OaCi",
        "outputId": "311a297b-cf98-4a1d-d9f9-89660e8f6152"
      },
      "execution_count": 17,
      "outputs": [
        {
          "output_type": "stream",
          "name": "stdout",
          "text": [
            "2510\n"
          ]
        }
      ]
    },
    {
      "cell_type": "code",
      "source": [],
      "metadata": {
        "id": "GJaP_ha5RF5k"
      },
      "execution_count": null,
      "outputs": []
    }
  ]
}