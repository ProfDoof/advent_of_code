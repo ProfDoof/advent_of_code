{
  "nbformat": 4,
  "nbformat_minor": 0,
  "metadata": {
    "colab": {
      "provenance": [],
      "mount_file_id": "1BrbPUzmnp7lQGLW3BiOv3_iVsUoG8d-C",
      "authorship_tag": "ABX9TyNtdpEBVkWOc5PyCWrcayf3",
      "include_colab_link": true
    },
    "kernelspec": {
      "name": "python3",
      "display_name": "Python 3"
    },
    "language_info": {
      "name": "python"
    }
  },
  "cells": [
    {
      "cell_type": "markdown",
      "metadata": {
        "id": "view-in-github",
        "colab_type": "text"
      },
      "source": [
        "<a href=\"https://colab.research.google.com/github/ProfDoof/advent_of_code/blob/2022/day10.ipynb\" target=\"_parent\"><img src=\"https://colab.research.google.com/assets/colab-badge.svg\" alt=\"Open In Colab\"/></a>"
      ]
    },
    {
      "cell_type": "markdown",
      "source": [
        "# Day "
      ],
      "metadata": {
        "id": "V8_6M7F6uuvW"
      }
    },
    {
      "cell_type": "markdown",
      "source": [
        "## Load Data"
      ],
      "metadata": {
        "id": "uEPsbWt_uzlM"
      }
    },
    {
      "cell_type": "code",
      "execution_count": 21,
      "metadata": {
        "id": "4C2MqsfbC37K"
      },
      "outputs": [],
      "source": [
        "from pathlib import Path\n",
        "\n",
        "DAY = 10\n",
        "DATA_FILE = Path.cwd() / 'drive' / 'MyDrive' / 'AdventOfCode' / 'aoc_data' / f'day{DAY}.txt'\n",
        "\n",
        "data = DATA_FILE.read_text()"
      ]
    },
    {
      "cell_type": "markdown",
      "source": [
        "## Solution"
      ],
      "metadata": {
        "id": "oZr_LgNBuxkM"
      }
    },
    {
      "cell_type": "markdown",
      "source": [
        "### Test Values"
      ],
      "metadata": {
        "id": "9gneWy_fUcxl"
      }
    },
    {
      "cell_type": "code",
      "source": [
        "larger_test = '''\n",
        "addx 15\n",
        "addx -11\n",
        "addx 6\n",
        "addx -3\n",
        "addx 5\n",
        "addx -1\n",
        "addx -8\n",
        "addx 13\n",
        "addx 4\n",
        "noop\n",
        "addx -1\n",
        "addx 5\n",
        "addx -1\n",
        "addx 5\n",
        "addx -1\n",
        "addx 5\n",
        "addx -1\n",
        "addx 5\n",
        "addx -1\n",
        "addx -35\n",
        "addx 1\n",
        "addx 24\n",
        "addx -19\n",
        "addx 1\n",
        "addx 16\n",
        "addx -11\n",
        "noop\n",
        "noop\n",
        "addx 21\n",
        "addx -15\n",
        "noop\n",
        "noop\n",
        "addx -3\n",
        "addx 9\n",
        "addx 1\n",
        "addx -3\n",
        "addx 8\n",
        "addx 1\n",
        "addx 5\n",
        "noop\n",
        "noop\n",
        "noop\n",
        "noop\n",
        "noop\n",
        "addx -36\n",
        "noop\n",
        "addx 1\n",
        "addx 7\n",
        "noop\n",
        "noop\n",
        "noop\n",
        "addx 2\n",
        "addx 6\n",
        "noop\n",
        "noop\n",
        "noop\n",
        "noop\n",
        "noop\n",
        "addx 1\n",
        "noop\n",
        "noop\n",
        "addx 7\n",
        "addx 1\n",
        "noop\n",
        "addx -13\n",
        "addx 13\n",
        "addx 7\n",
        "noop\n",
        "addx 1\n",
        "addx -33\n",
        "noop\n",
        "noop\n",
        "noop\n",
        "addx 2\n",
        "noop\n",
        "noop\n",
        "noop\n",
        "addx 8\n",
        "noop\n",
        "addx -1\n",
        "addx 2\n",
        "addx 1\n",
        "noop\n",
        "addx 17\n",
        "addx -9\n",
        "addx 1\n",
        "addx 1\n",
        "addx -3\n",
        "addx 11\n",
        "noop\n",
        "noop\n",
        "addx 1\n",
        "noop\n",
        "addx 1\n",
        "noop\n",
        "noop\n",
        "addx -13\n",
        "addx -19\n",
        "addx 1\n",
        "addx 3\n",
        "addx 26\n",
        "addx -30\n",
        "addx 12\n",
        "addx -1\n",
        "addx 3\n",
        "addx 1\n",
        "noop\n",
        "noop\n",
        "noop\n",
        "addx -9\n",
        "addx 18\n",
        "addx 1\n",
        "addx 2\n",
        "noop\n",
        "noop\n",
        "addx 9\n",
        "noop\n",
        "noop\n",
        "noop\n",
        "addx -1\n",
        "addx 2\n",
        "addx -37\n",
        "addx 1\n",
        "addx 3\n",
        "noop\n",
        "addx 15\n",
        "addx -21\n",
        "addx 22\n",
        "addx -6\n",
        "addx 1\n",
        "noop\n",
        "addx 2\n",
        "addx 1\n",
        "noop\n",
        "addx -10\n",
        "noop\n",
        "noop\n",
        "addx 20\n",
        "addx 1\n",
        "addx 2\n",
        "addx 2\n",
        "addx -6\n",
        "addx -11\n",
        "noop\n",
        "noop\n",
        "noop\n",
        "'''"
      ],
      "metadata": {
        "id": "FfI9sAfzTAv2"
      },
      "execution_count": 22,
      "outputs": []
    },
    {
      "cell_type": "code",
      "source": [
        "test = '''\n",
        "noop\n",
        "addx 3\n",
        "addx -5\n",
        "'''"
      ],
      "metadata": {
        "id": "Cn5bnCPiUieR"
      },
      "execution_count": 23,
      "outputs": []
    },
    {
      "cell_type": "markdown",
      "source": [
        "### Solution Code"
      ],
      "metadata": {
        "id": "joPgX8ITUkvk"
      }
    },
    {
      "cell_type": "code",
      "source": [
        "from typing import List\n",
        "from collections import deque\n",
        "\n",
        "class Cpu:\n",
        "    def __init__(self):\n",
        "        self.inputs = deque()\n",
        "        self.registers = {'X': 1}\n",
        "        self.state = Waiting(self)\n",
        "\n",
        "    def is_accepting_input(self):\n",
        "        return self.state.accepts_input\n",
        "\n",
        "    def input_(self, input_: str):\n",
        "        self.inputs.append(input_)\n",
        "\n",
        "    def input_many(self, inputs: List[str]):\n",
        "        self.inputs.extend(inputs)\n",
        "        \n",
        "    def tick(self):\n",
        "        if len(self.inputs) > 0 and self.state.accepts_input:\n",
        "            self.state = self.state.input_(self.inputs.popleft())\n",
        "        self.state = self.state.tick()\n",
        "\n",
        "    def is_working(self):\n",
        "        return self.state.is_working or len(self.inputs) > 0\n",
        "\n",
        "    def __str__(self) -> str:\n",
        "        return f'CPU ({self.state})\\n---------------\\n{self.registers}\\n---------------\\n{self.inputs}'\n",
        "    \n",
        "\n",
        "class State:\n",
        "    def __init__(self, cpu: Cpu, name: str, accepts_input: bool, is_working: bool):\n",
        "        self.cpu = cpu\n",
        "        self.name = name\n",
        "        self.accepts_input = accepts_input\n",
        "        self.is_working = is_working\n",
        "\n",
        "    def __str__(self) -> str:\n",
        "        return f'{self.name}'\n",
        "\n",
        "    def input_(self, input_: str):\n",
        "        raise Exception('Not Implemented')\n",
        "\n",
        "    def tick(self):\n",
        "        raise Exception('Not Implemented')\n",
        "\n",
        "\n",
        "class NoOp(State):\n",
        "    def __init__(self, cpu: Cpu):\n",
        "        super().__init__(cpu, 'NoOp', False, True)\n",
        "    \n",
        "    def tick(self):\n",
        "        return Waiting(self.cpu)\n",
        "\n",
        "\n",
        "class AddX(State):\n",
        "    def __init__(self, cpu: Cpu, x: int):\n",
        "        super().__init__(cpu, 'AddX', False, True)\n",
        "        self.ticked = False\n",
        "        self.x = x\n",
        "\n",
        "    def tick(self):\n",
        "        if not self.ticked:\n",
        "            self.ticked = True\n",
        "            return self\n",
        "        else:\n",
        "            self.cpu.registers['X'] += self.x\n",
        "            return Waiting(self.cpu)\n",
        "\n",
        "\n",
        "class Waiting(State):\n",
        "    def __init__(self, cpu: Cpu):\n",
        "        super().__init__(cpu, 'Waiting', True, False)\n",
        "\n",
        "    def input_(self, input_: str):\n",
        "        split_input = input_.split(' ')\n",
        "        if split_input[0] == 'noop':\n",
        "            return NoOp(self.cpu)\n",
        "        elif split_input[0] == 'addx' and len(split_input) == 2:\n",
        "            return AddX(self.cpu, int(split_input[1]))\n",
        "        \n",
        "        raise Exception('Unacceptable Input')"
      ],
      "metadata": {
        "id": "mDQYlP2WI6NO"
      },
      "execution_count": 24,
      "outputs": []
    },
    {
      "cell_type": "code",
      "source": [
        "class Crt:\n",
        "    def __init__(self, cpu: Cpu):\n",
        "        self.cpu = cpu\n",
        "        self.screen = [['.' for i in range(40)] for j in range(6)]\n",
        "        self.row = 0\n",
        "        self.col = 0\n",
        "\n",
        "    def tick(self):\n",
        "        middle = self.cpu.registers['X']\n",
        "        if self.col in set(range(middle - 1, middle + 2)):\n",
        "            self.screen[self.row][self.col] = '#'\n",
        "\n",
        "        self.col += 1\n",
        "        if self.col % 40 == 0:\n",
        "            self.col = 0\n",
        "            self.row = (self.row + 1) % 6\n",
        "\n",
        "\n",
        "    def __str__(self) -> str:\n",
        "        return '\\n'.join((' '.join(row) for row in self.screen))\n",
        "\n",
        "input_data = data\n",
        "cpu = Cpu()\n",
        "crt = Crt(cpu)\n",
        "logged_values = []\n",
        "cycle = 1\n",
        "\n",
        "log_pred = lambda cycle: (cycle + 20) % 40 == 0\n",
        "log_func = lambda cycle, register: cycle * register\n",
        "\n",
        "cpu.input_many(list(input_data.strip().split('\\n')))\n",
        "while cpu.is_working():\n",
        "    if log_pred(cycle):\n",
        "        logged_values.append(log_func(cycle, cpu.registers['X']))   \n",
        "    crt.tick()\n",
        "    cpu.tick()\n",
        "    # print(cpu)\n",
        "    # print(crt)\n",
        "    cycle += 1\n",
        "\n",
        "print(sum(logged_values))\n",
        "print(crt)"
      ],
      "metadata": {
        "colab": {
          "base_uri": "https://localhost:8080/"
        },
        "id": "R8sElW47YETr",
        "outputId": "1d371a79-cd1b-4cd0-c491-70c9bc734f90"
      },
      "execution_count": 34,
      "outputs": [
        {
          "output_type": "stream",
          "name": "stdout",
          "text": [
            "14860\n",
            "# # # . . . # # . . # # # # . # # # # . # . . # . # . . # . # # # . . # . . # .\n",
            "# . . # . # . . # . . . . # . # . . . . # . . # . # . . # . # . . # . # . # . .\n",
            "# . . # . # . . . . . . # . . # # # . . # # # # . # . . # . # . . # . # # . . .\n",
            "# # # . . # . # # . . # . . . # . . . . # . . # . # . . # . # # # . . # . # . .\n",
            "# . # . . # . . # . # . . . . # . . . . # . . # . # . . # . # . # . . # . # . .\n",
            "# . . # . . # # # . # # # # . # # # # . # . . # . . # # . . # . . # . # . . # .\n"
          ]
        }
      ]
    }
  ]
}