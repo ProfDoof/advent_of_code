{
  "nbformat": 4,
  "nbformat_minor": 0,
  "metadata": {
    "colab": {
      "provenance": [],
      "mount_file_id": "19OV-lowynwYRc3psW3wo5z-AthWRSRMY",
      "authorship_tag": "ABX9TyPE74Vp0evw0y1YiUidK/eg",
      "include_colab_link": true
    },
    "kernelspec": {
      "name": "python3",
      "display_name": "Python 3"
    },
    "language_info": {
      "name": "python"
    }
  },
  "cells": [
    {
      "cell_type": "markdown",
      "metadata": {
        "id": "view-in-github",
        "colab_type": "text"
      },
      "source": [
        "<a href=\"https://colab.research.google.com/github/ProfDoof/advent_of_code/blob/2022/day11.ipynb\" target=\"_parent\"><img src=\"https://colab.research.google.com/assets/colab-badge.svg\" alt=\"Open In Colab\"/></a>"
      ]
    },
    {
      "cell_type": "markdown",
      "source": [
        "# Day "
      ],
      "metadata": {
        "id": "V8_6M7F6uuvW"
      }
    },
    {
      "cell_type": "markdown",
      "source": [
        "## Load Data"
      ],
      "metadata": {
        "id": "uEPsbWt_uzlM"
      }
    },
    {
      "cell_type": "code",
      "execution_count": null,
      "metadata": {
        "id": "4C2MqsfbC37K"
      },
      "outputs": [],
      "source": [
        "from pathlib import Path\n",
        "\n",
        "DAY = 11\n",
        "DATA_FILE = Path.cwd() / 'drive' / 'MyDrive' / 'AdventOfCode' / 'aoc_data' / f'day{DAY}.txt'\n",
        "\n",
        "data = DATA_FILE.read_text()"
      ]
    },
    {
      "cell_type": "markdown",
      "source": [
        "## Solution"
      ],
      "metadata": {
        "id": "oZr_LgNBuxkM"
      }
    },
    {
      "cell_type": "code",
      "source": [
        "from typing import NamedTuple, List, Callable, Set, Union, Tuple\n",
        "import operator\n",
        "import re\n",
        "\n",
        "test = '''\n",
        "Monkey 0:\n",
        "  Starting items: 79, 98\n",
        "  Operation: new = old * 19\n",
        "  Test: divisible by 23\n",
        "    If true: throw to monkey 2\n",
        "    If false: throw to monkey 3\n",
        "\n",
        "Monkey 1:\n",
        "  Starting items: 54, 65, 75, 74\n",
        "  Operation: new = old + 6\n",
        "  Test: divisible by 19\n",
        "    If true: throw to monkey 2\n",
        "    If false: throw to monkey 0\n",
        "\n",
        "Monkey 2:\n",
        "  Starting items: 79, 60, 97\n",
        "  Operation: new = old * old\n",
        "  Test: divisible by 13\n",
        "    If true: throw to monkey 1\n",
        "    If false: throw to monkey 3\n",
        "\n",
        "Monkey 3:\n",
        "  Starting items: 74\n",
        "  Operation: new = old + 3\n",
        "  Test: divisible by 17\n",
        "    If true: throw to monkey 0\n",
        "    If false: throw to monkey 1\n",
        "'''\n",
        "\n",
        "class Monkey(NamedTuple):\n",
        "    id_: int\n",
        "    items: List[int]\n",
        "    operation: Callable[[int], int]\n",
        "    test_and_pass: Callable[[int], int]\n",
        "\n",
        "\n",
        "def monkey_op(first, op, second, modulus):\n",
        "    if op == '+':\n",
        "        op_func = operator.add\n",
        "    # Multiplication is kinda like set union\n",
        "    elif op == '*':\n",
        "        op_func = operator.mul\n",
        "    else:\n",
        "        raise Exception(f'An operator that is not supported was input: \"{op}\"')\n",
        "    \n",
        "    first_val = None if first == 'old' else int(first)\n",
        "    second_val = None if second == 'old' else int(second)\n",
        "    return lambda old: op_func(first_val if first_val else old, second_val if second_val else old) % modulus\n",
        "\n",
        "\n",
        "def monkey_test(div_num: int, true_target: int, false_target: int):\n",
        "    return lambda worry: true_target if worry % div_num == 0 else false_target\n",
        "\n",
        "\n",
        "i_data = data\n",
        "\n",
        "# Parsing step\n",
        "monkeys_setup = []\n",
        "monkey_divs = set()\n",
        "monkey_ops = set()\n",
        "div_num_re = re.compile('Test: divisible by (\\d+)')\n",
        "target_re = re.compile('If .*?: throw to monkey (\\d+)')\n",
        "for monkey in i_data.strip().split('\\n\\n'):\n",
        "    lines = monkey.strip().split('\\n')\n",
        "    id_line = lines[0]\n",
        "    s_items_line = lines[1]\n",
        "    op_line = lines[2]\n",
        "    test_line = lines[3]\n",
        "    true_test_line = lines[4]\n",
        "    false_test_line = lines[5]\n",
        "\n",
        "    ignored, id_ = id_line.strip(' :').split(' ')\n",
        "    ignored, starting_items = s_items_line.split(':')\n",
        "    starting_items = [int(s_item.strip()) for s_item in starting_items.split(',')]\n",
        "    ignored, operation = op_line.split(':')\n",
        "    # m_op = monkey_op(f, o, s)\n",
        "    m_div_num = int(div_num_re.search(test_line).group(1))\n",
        "    m_true_target = int(target_re.search(true_test_line).group(1))\n",
        "    m_false_target = int(target_re.search(false_test_line).group(1))\n",
        "    # test_and_pass_func = monkey_test(m_div_num, m_true_target, m_false_target)\n",
        "    monkey_divs.add(m_div_num)\n",
        "\n",
        "    monkeys_setup.append((id_, starting_items, operation, m_div_num, m_true_target, m_false_target))\n",
        "\n",
        "monkeys = []\n",
        "divs_modulus = 1\n",
        "for factor in monkey_divs:\n",
        "    divs_modulus *= factor\n",
        "\n",
        "DEBUG = False\n",
        "for id_, starting_items, operation, div_num, true_target, false_target in monkeys_setup:\n",
        "    ignored1, ignored2, f, o, s = operation.split()\n",
        "    monkeys.append(\n",
        "        Monkey(\n",
        "            id_, \n",
        "            starting_items, \n",
        "            monkey_op(f, o, s, divs_modulus), \n",
        "            monkey_test(div_num, true_target, false_target)\n",
        "            )\n",
        "        )\n",
        "\n",
        "# print(monkeys_setup[0])\n",
        "# print(monkeys[0])\n",
        "# Simulation step\n",
        "\n",
        "ROUNDS = 10000\n",
        "num_times_inspected = [0 for i in range(len(monkeys))]\n",
        "\n",
        "for round in range(ROUNDS):\n",
        "    \n",
        "    # Go through each monkeys turn\n",
        "    for monkey_idx, monkey in enumerate(monkeys):\n",
        "        while len(monkey.items) > 0:\n",
        "            num_times_inspected[monkey_idx] += 1\n",
        "            # Check item\n",
        "            old_worry = monkey.items.pop(0)\n",
        "            # print(f'  Monkey inspects an item with a worry level of {old_worry}.')\n",
        "\n",
        "            # Inspect item and increase worry\n",
        "            new_worry = monkey.operation(old_worry)\n",
        "            # print(f'    Worry level is increased to {new_worry}.')\n",
        "\n",
        "            # Decrease worry after it survives\n",
        "            # new_worry = new_worry // 3\n",
        "            # print(f'    Monkey gets bored with item. Worry level is divided by 3 to {new_worry}.')\n",
        "\n",
        "            # Monkey tests worry to determine who to pass to\n",
        "            target = monkey.test_and_pass(new_worry)\n",
        "            # print(f'    Item with worry level {new_worry} is thrown to monkey {target}.')\n",
        "            # Monkey throws to target\n",
        "            monkeys[target].items.append(new_worry)\n",
        "\n",
        "k = 2\n",
        "top_k_values = [(0, 0) for i in range(k)]\n",
        "for monkey_idx, num_items_inspected in enumerate(num_times_inspected):\n",
        "    if num_items_inspected > top_k_values[0][0]:\n",
        "        top_k_values[0] = (num_items_inspected, monkey_idx)\n",
        "        top_k_values = sorted(top_k_values, key=operator.itemgetter(0))\n",
        "\n",
        "print(num_times_inspected)\n",
        "monkey_business = 1\n",
        "for mb, mi in top_k_values:\n",
        "    monkey_business *= mb\n",
        "\n",
        "print(monkey_business)"
      ],
      "metadata": {
        "colab": {
          "base_uri": "https://localhost:8080/"
        },
        "id": "Yp7uEEHVSheW",
        "outputId": "37eeee65-f7ab-45fd-979d-4b30d21e85f6"
      },
      "execution_count": null,
      "outputs": [
        {
          "output_type": "stream",
          "name": "stdout",
          "text": [
            "[83587, 29059, 9882, 123613, 152660, 138194, 142807, 123730]\n",
            "21800916620\n"
          ]
        }
      ]
    }
  ]
}