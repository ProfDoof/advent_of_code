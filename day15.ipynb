{
  "nbformat": 4,
  "nbformat_minor": 0,
  "metadata": {
    "colab": {
      "provenance": [],
      "mount_file_id": "1jXirClHnUCaLiwFkTaOycXmLgiewpgbS",
      "authorship_tag": "ABX9TyP6kEVHPoGw0Zjn1Oks0xAp",
      "include_colab_link": true
    },
    "kernelspec": {
      "name": "python3",
      "display_name": "Python 3"
    },
    "language_info": {
      "name": "python"
    }
  },
  "cells": [
    {
      "cell_type": "markdown",
      "metadata": {
        "id": "view-in-github",
        "colab_type": "text"
      },
      "source": [
        "<a href=\"https://colab.research.google.com/github/ProfDoof/advent_of_code/blob/2022/day15.ipynb\" target=\"_parent\"><img src=\"https://colab.research.google.com/assets/colab-badge.svg\" alt=\"Open In Colab\"/></a>"
      ]
    },
    {
      "cell_type": "markdown",
      "source": [
        "# Day "
      ],
      "metadata": {
        "id": "V8_6M7F6uuvW"
      }
    },
    {
      "cell_type": "markdown",
      "source": [
        "## Load Data"
      ],
      "metadata": {
        "id": "uEPsbWt_uzlM"
      }
    },
    {
      "cell_type": "code",
      "execution_count": 5,
      "metadata": {
        "id": "4C2MqsfbC37K"
      },
      "outputs": [],
      "source": [
        "from pathlib import Path\n",
        "\n",
        "DAY = 15\n",
        "DATA_FILE = Path.cwd() / 'drive' / 'MyDrive' / 'AdventOfCode' / 'aoc_data' / f'day{DAY}.txt'\n",
        "\n",
        "data = DATA_FILE.read_text()"
      ]
    },
    {
      "cell_type": "markdown",
      "source": [
        "## Solution"
      ],
      "metadata": {
        "id": "oZr_LgNBuxkM"
      }
    },
    {
      "cell_type": "code",
      "source": [
        "%pip install shapely geopandas"
      ],
      "metadata": {
        "colab": {
          "base_uri": "https://localhost:8080/"
        },
        "id": "wDJ--TKwx_zU",
        "outputId": "6611831a-8f7d-4d5f-ee37-8a7ff5d71306"
      },
      "execution_count": 3,
      "outputs": [
        {
          "output_type": "stream",
          "name": "stdout",
          "text": [
            "Looking in indexes: https://pypi.org/simple, https://us-python.pkg.dev/colab-wheels/public/simple/\n",
            "Requirement already satisfied: shapely in /usr/local/lib/python3.8/dist-packages (2.0.0)\n",
            "Collecting geopandas\n",
            "  Downloading geopandas-0.12.2-py3-none-any.whl (1.1 MB)\n",
            "\u001b[K     |████████████████████████████████| 1.1 MB 36.6 MB/s \n",
            "\u001b[?25hRequirement already satisfied: numpy>=1.14 in /usr/local/lib/python3.8/dist-packages (from shapely) (1.21.6)\n",
            "Requirement already satisfied: pandas>=1.0.0 in /usr/local/lib/python3.8/dist-packages (from geopandas) (1.3.5)\n",
            "Requirement already satisfied: packaging in /usr/local/lib/python3.8/dist-packages (from geopandas) (21.3)\n",
            "Collecting fiona>=1.8\n",
            "  Downloading Fiona-1.8.22-cp38-cp38-manylinux_2_17_x86_64.manylinux2014_x86_64.whl (16.6 MB)\n",
            "\u001b[K     |████████████████████████████████| 16.6 MB 69.0 MB/s \n",
            "\u001b[?25hCollecting pyproj>=2.6.1.post1\n",
            "  Downloading pyproj-3.4.1-cp38-cp38-manylinux_2_17_x86_64.manylinux2014_x86_64.whl (7.8 MB)\n",
            "\u001b[K     |████████████████████████████████| 7.8 MB 64.8 MB/s \n",
            "\u001b[?25hRequirement already satisfied: six>=1.7 in /usr/local/lib/python3.8/dist-packages (from fiona>=1.8->geopandas) (1.15.0)\n",
            "Requirement already satisfied: click>=4.0 in /usr/local/lib/python3.8/dist-packages (from fiona>=1.8->geopandas) (7.1.2)\n",
            "Collecting munch\n",
            "  Downloading munch-2.5.0-py2.py3-none-any.whl (10 kB)\n",
            "Collecting click-plugins>=1.0\n",
            "  Downloading click_plugins-1.1.1-py2.py3-none-any.whl (7.5 kB)\n",
            "Requirement already satisfied: certifi in /usr/local/lib/python3.8/dist-packages (from fiona>=1.8->geopandas) (2022.12.7)\n",
            "Collecting cligj>=0.5\n",
            "  Downloading cligj-0.7.2-py3-none-any.whl (7.1 kB)\n",
            "Requirement already satisfied: attrs>=17 in /usr/local/lib/python3.8/dist-packages (from fiona>=1.8->geopandas) (22.1.0)\n",
            "Requirement already satisfied: setuptools in /usr/local/lib/python3.8/dist-packages (from fiona>=1.8->geopandas) (57.4.0)\n",
            "Requirement already satisfied: python-dateutil>=2.7.3 in /usr/local/lib/python3.8/dist-packages (from pandas>=1.0.0->geopandas) (2.8.2)\n",
            "Requirement already satisfied: pytz>=2017.3 in /usr/local/lib/python3.8/dist-packages (from pandas>=1.0.0->geopandas) (2022.6)\n",
            "Requirement already satisfied: pyparsing!=3.0.5,>=2.0.2 in /usr/local/lib/python3.8/dist-packages (from packaging->geopandas) (3.0.9)\n",
            "Installing collected packages: munch, cligj, click-plugins, pyproj, fiona, geopandas\n",
            "Successfully installed click-plugins-1.1.1 cligj-0.7.2 fiona-1.8.22 geopandas-0.12.2 munch-2.5.0 pyproj-3.4.1\n"
          ]
        }
      ]
    },
    {
      "cell_type": "code",
      "source": [
        "test = '''\n",
        "Sensor at x=2, y=18: closest beacon is at x=-2, y=15\n",
        "Sensor at x=9, y=16: closest beacon is at x=10, y=16\n",
        "Sensor at x=13, y=2: closest beacon is at x=15, y=3\n",
        "Sensor at x=12, y=14: closest beacon is at x=10, y=16\n",
        "Sensor at x=10, y=20: closest beacon is at x=10, y=16\n",
        "Sensor at x=14, y=17: closest beacon is at x=10, y=16\n",
        "Sensor at x=8, y=7: closest beacon is at x=2, y=10\n",
        "Sensor at x=2, y=0: closest beacon is at x=2, y=10\n",
        "Sensor at x=0, y=11: closest beacon is at x=2, y=10\n",
        "Sensor at x=20, y=14: closest beacon is at x=25, y=17\n",
        "Sensor at x=17, y=20: closest beacon is at x=21, y=22\n",
        "Sensor at x=16, y=7: closest beacon is at x=15, y=3\n",
        "Sensor at x=14, y=3: closest beacon is at x=15, y=3\n",
        "Sensor at x=20, y=1: closest beacon is at x=15, y=3\n",
        "'''"
      ],
      "metadata": {
        "id": "YNJE_RzCC1ld"
      },
      "execution_count": 2,
      "outputs": []
    },
    {
      "cell_type": "code",
      "source": [
        "from geopandas.tools.util import MultiPolygon\n",
        "import matplotlib.pyplot as plt\n",
        "from matplotlib.path import Path\n",
        "import matplotlib.patches as patches\n",
        "from operator import itemgetter\n",
        "from scipy.spatial.distance import cityblock\n",
        "import re\n",
        "import math\n",
        "import geopandas as gpd\n",
        "from shapely import linearrings, polygons, union_all, contains_xy, prepare, LineString, box, centroid, Polygon\n",
        "from typing import Generator, Tuple, Callable\n",
        "\n",
        "\n",
        "SENSOR_RE = re.compile('Sensor at x=(-?\\d+), y=(-?\\d+): closest beacon is at x=(-?\\d+), y=(-?\\d+)')\n",
        "\n",
        "def find_num_beaconless(i_data: str, **kwargs):\n",
        "    fig, ax = plt.subplots()\n",
        "    x_max = -math.inf\n",
        "    x_min = math.inf\n",
        "    y_max = -math.inf\n",
        "    y_min = math.inf\n",
        "\n",
        "    rings = []\n",
        "    for line in i_data.strip().split('\\n'):\n",
        "        sensor_x, sensor_y, beacon_x, beacon_y = [int(d) for d in SENSOR_RE.match(line).groups()]\n",
        "        distance = cityblock([sensor_x, sensor_y], [beacon_x, beacon_y])\n",
        "\n",
        "        x_max = max(x_max, sensor_x + distance)\n",
        "        x_min = min(x_min, sensor_x - distance)\n",
        "        y_max = max(y_max, sensor_y + distance)\n",
        "        y_min = min(y_min, sensor_y - distance)\n",
        "\n",
        "        verts = [\n",
        "            [sensor_x + distance, sensor_y],\n",
        "            [sensor_x, sensor_y - distance],\n",
        "            [sensor_x - distance, sensor_y],\n",
        "            [sensor_x, sensor_y + distance],\n",
        "        ]\n",
        "\n",
        "        rings.append(linearrings(verts))\n",
        "\n",
        "    searched = union_all(polygons(rings))\n",
        "    p = gpd.GeoSeries(searched)\n",
        "    ax.set_xlim(x_min - 2, x_max + 2)\n",
        "    ax.set_ylim(y_min - 2, y_max + 2)\n",
        "    p.plot(ax=ax)\n",
        "\n",
        "    searched_row = LineString([[x_min, kwargs['row']], [x_max, kwargs['row']]]).intersection(searched)\n",
        "    print(f'How many positions in row {kwargs[\"row\"]} cannot contain a beacon? ', int(searched_row.length))\n",
        "\n",
        "    k_x_min, k_x_max = kwargs['smallest'], kwargs['largest']\n",
        "    k_y_min, k_y_max = kwargs['smallest'], kwargs['largest']\n",
        "    known_area = box(k_x_min, k_y_min, k_x_max, k_y_max)\n",
        "    possible_distress_locs = known_area.difference(searched, grid_size=1)\n",
        "    p = gpd.GeoSeries(known_area)\n",
        "    p.plot(ax=ax, color='black')\n",
        "    p = gpd.GeoSeries(known_area.difference(searched, grid_size=1))\n",
        "    p.plot(ax=ax, color='orange')\n",
        "    if isinstance(possible_distress_locs, Polygon):\n",
        "        possible_distress_locs = MultiPolygon([possible_distress_locs])\n",
        "    for poly in possible_distress_locs.geoms:\n",
        "        c = centroid(poly)\n",
        "\n",
        "        if c.x.is_integer() and c.y.is_integer():\n",
        "            print(\"Possible beacon location: \", int(c.x), int(c.y))\n",
        "            print(\"with tuning frequency: \", int(c.x) * 4000000 + int(c.y))\n",
        "\n",
        "    plt.show()\n",
        "\n",
        "\n",
        "find_num_beaconless(data, row=2000000, smallest=0, largest=4000000)"
      ],
      "metadata": {
        "colab": {
          "base_uri": "https://localhost:8080/",
          "height": 341
        },
        "id": "9P9qvtCBC7g4",
        "outputId": "71ac4982-76ee-43fe-dcc7-9e779a4b3005"
      },
      "execution_count": 61,
      "outputs": [
        {
          "output_type": "stream",
          "name": "stdout",
          "text": [
            "How many positions in row 2000000 cannot contain a beacon?  5564017\n",
            "Possible beacon location:  2889605 3398893\n",
            "with tuning frequency:  11558423398893\n"
          ]
        },
        {
          "output_type": "display_data",
          "data": {
            "text/plain": [
              "<Figure size 432x288 with 1 Axes>"
            ],
            "image/png": "[encoded data removed]"
          },
          "metadata": {
            "needs_background": "light"
          }
        }
      ]
    }
  ]
}