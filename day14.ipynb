{
  "nbformat": 4,
  "nbformat_minor": 0,
  "metadata": {
    "colab": {
      "provenance": [],
      "mount_file_id": "1L66GFlgPDPlrOdG1PJSy_3o85CIalBWj",
      "authorship_tag": "ABX9TyMzcXh5HpVghs3KJ1ySXUo+",
      "include_colab_link": true
    },
    "kernelspec": {
      "name": "python3",
      "display_name": "Python 3"
    },
    "language_info": {
      "name": "python"
    }
  },
  "cells": [
    {
      "cell_type": "markdown",
      "metadata": {
        "id": "view-in-github",
        "colab_type": "text"
      },
      "source": [
        "<a href=\"https://colab.research.google.com/github/ProfDoof/advent_of_code/blob/2022/day14.ipynb\" target=\"_parent\"><img src=\"https://colab.research.google.com/assets/colab-badge.svg\" alt=\"Open In Colab\"/></a>"
      ]
    },
    {
      "cell_type": "markdown",
      "source": [
        "# Day "
      ],
      "metadata": {
        "id": "V8_6M7F6uuvW"
      }
    },
    {
      "cell_type": "markdown",
      "source": [
        "## Load Data"
      ],
      "metadata": {
        "id": "uEPsbWt_uzlM"
      }
    },
    {
      "cell_type": "code",
      "execution_count": 44,
      "metadata": {
        "id": "4C2MqsfbC37K"
      },
      "outputs": [],
      "source": [
        "from pathlib import Path\n",
        "\n",
        "DAY = 14\n",
        "DATA_FILE = Path.cwd() / 'drive' / 'MyDrive' / 'AdventOfCode' / 'aoc_data' / f'day{DAY}.txt'\n",
        "\n",
        "data = DATA_FILE.read_text()"
      ]
    },
    {
      "cell_type": "markdown",
      "source": [
        "## Solution"
      ],
      "metadata": {
        "id": "oZr_LgNBuxkM"
      }
    },
    {
      "cell_type": "code",
      "source": [
        "test = '''\n",
        "498,4 -> 498,6 -> 496,6\n",
        "503,4 -> 502,4 -> 502,9 -> 494,9\n",
        "'''"
      ],
      "metadata": {
        "id": "l4UOMbqNu7Di"
      },
      "execution_count": null,
      "outputs": []
    },
    {
      "cell_type": "code",
      "source": [
        "from typing import NamedTuple, List, Dict, Tuple\n",
        "import itertools\n",
        "import math\n",
        "from functools import partial\n",
        "from collections import defaultdict\n",
        "\n",
        "class Point(NamedTuple):\n",
        "    x: int\n",
        "    y: int\n",
        "\n",
        "class RockPath(NamedTuple):\n",
        "    points: List[Point]\n",
        "\n",
        "    def __iter__(self):\n",
        "        start_iter, end_iter = itertools.tee(self.points)\n",
        "        next(end_iter, None)\n",
        "        for start_point, end_point in zip(start_iter, end_iter):\n",
        "            x_iter = itertools.repeat(start_point.x)\n",
        "            y_iter = itertools.repeat(start_point.y)\n",
        "            if start_point.x != end_point.x:\n",
        "                direction = int(math.copysign(1, -start_point.x + end_point.x))\n",
        "                x_iter = range(start_point.x, end_point.x, direction)\n",
        "            else:\n",
        "                direction = int(math.copysign(1, -start_point.y + end_point.y))\n",
        "                y_iter = range(start_point.y, end_point.y, direction)\n",
        "            \n",
        "            yield from ((x, y) for x, y in zip(x_iter, y_iter))\n",
        "        x_final, y_final = self.points[-1]\n",
        "        yield x_final, y_final\n",
        "\n",
        "\n",
        "def get_rock_path(i_data: str):\n",
        "    return RockPath([Point(int(x), int(y)) for x, y in map(lambda x: x.split(','), i_data.split(' -> '))])\n",
        "\n",
        "\n",
        "def get_air():\n",
        "    return '.'\n",
        "\n",
        "\n",
        "def get_floor():\n",
        "    return '#'\n",
        "\n",
        "\n",
        "class Map:\n",
        "    def __init__(self, map: List[Dict[int, str]]):\n",
        "        self.map = map\n",
        "        self.map.append(defaultdict(get_air))\n",
        "        self.map.append(defaultdict(get_floor))\n",
        "        self.changed = True\n",
        "\n",
        "    def __str__(self):\n",
        "        return '\\n'.join(' '.join(row.values()) for row in self.map)\n",
        "\n",
        "    def drop(self):\n",
        "        c_x, c_y = (500, 0)\n",
        "        moved = True\n",
        "        while moved:\n",
        "            moved = False\n",
        "            p_y = c_y + 1\n",
        "            for p_x in [c_x, c_x - 1, c_x + 1]:\n",
        "                if self.map[p_y][p_x] == '.':\n",
        "                    moved = True\n",
        "                    self.map[p_y][p_x] = 'o'\n",
        "                    self.map[c_y][c_x] = '.' if self.map[c_y][c_x] == 'o' else '+'\n",
        "                    c_x, c_y = p_x, p_y\n",
        "                    break\n",
        "\n",
        "        if (c_x, c_y) == (500, 0):\n",
        "            self.map[c_y][c_x] = 'o'\n",
        "            self.changed = False\n",
        "        \n",
        "        return self\n",
        "\n",
        "\n",
        "\n",
        "def get_map(i_data: str):\n",
        "    sand_drops = [(500, 0)]\n",
        "    rock_points = []\n",
        "    for path_data in i_data.strip().split('\\n'):\n",
        "        path = get_rock_path(path_data)\n",
        "        rock_points.extend(path)\n",
        "\n",
        "    min_x, min_y = math.inf, math.inf\n",
        "    max_x, max_y = 0, 0\n",
        "    for x, y in itertools.chain(sand_drops, rock_points):\n",
        "        min_x, min_y = min(min_x, x), min(min_y, y)\n",
        "        max_x, max_y = max(max_x, x), max(max_y, y)\n",
        "\n",
        "    map = [defaultdict(get_air) for i in range(min_y, max_y + 1)]\n",
        "    for sd_x, sd_y in sand_drops:\n",
        "        map[sd_y][sd_x] = '+'\n",
        "    \n",
        "    for rp_x, rp_y in rock_points:\n",
        "        map[rp_y][rp_x] = '#'\n",
        "\n",
        "    return Map(map)\n",
        "\n",
        "the_map = get_map(data)\n",
        "\n",
        "while the_map.changed:\n",
        "    the_map.drop()\n",
        "\n",
        "units_of_sand = 0\n",
        "\n",
        "for row in the_map.map:\n",
        "    for val in row.values():\n",
        "        if val == 'o':\n",
        "            units_of_sand += 1\n",
        "\n",
        "print(units_of_sand)"
      ],
      "metadata": {
        "colab": {
          "base_uri": "https://localhost:8080/"
        },
        "id": "RsaggRTCvAr3",
        "outputId": "3f19149a-2d32-41fe-ac43-83a8261766cb"
      },
      "execution_count": 47,
      "outputs": [
        {
          "output_type": "stream",
          "name": "stdout",
          "text": [
            "28594\n"
          ]
        }
      ]
    }
  ]
}