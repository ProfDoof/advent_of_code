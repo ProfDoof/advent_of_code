{
  "nbformat": 4,
  "nbformat_minor": 0,
  "metadata": {
    "colab": {
      "provenance": [],
      "mount_file_id": "1k-tTIo-WYSqT6TL8qk6PR0uuEgkNNUi1",
      "authorship_tag": "ABX9TyNynEGb+xvtd8Zm2Hap7n+V",
      "include_colab_link": true
    },
    "kernelspec": {
      "name": "python3",
      "display_name": "Python 3"
    },
    "language_info": {
      "name": "python"
    }
  },
  "cells": [
    {
      "cell_type": "markdown",
      "metadata": {
        "id": "view-in-github",
        "colab_type": "text"
      },
      "source": [
        "<a href=\"https://colab.research.google.com/github/ProfDoof/advent_of_code/blob/2022/day4.ipynb\" target=\"_parent\"><img src=\"https://colab.research.google.com/assets/colab-badge.svg\" alt=\"Open In Colab\"/></a>"
      ]
    },
    {
      "cell_type": "markdown",
      "source": [
        "# Day "
      ],
      "metadata": {
        "id": "V8_6M7F6uuvW"
      }
    },
    {
      "cell_type": "markdown",
      "source": [
        "## Load Data"
      ],
      "metadata": {
        "id": "uEPsbWt_uzlM"
      }
    },
    {
      "cell_type": "code",
      "execution_count": 15,
      "metadata": {
        "id": "4C2MqsfbC37K"
      },
      "outputs": [],
      "source": [
        "from pathlib import Path\n",
        "\n",
        "DAY = 4\n",
        "DATA_FILE = Path.cwd() / 'drive' / 'MyDrive' / 'AdventOfCode' / 'aoc_data' / f'day{DAY}.txt'\n",
        "\n",
        "data = DATA_FILE.read_text()"
      ]
    },
    {
      "cell_type": "markdown",
      "source": [
        "## Solution"
      ],
      "metadata": {
        "id": "oZr_LgNBuxkM"
      }
    },
    {
      "cell_type": "code",
      "source": [
        "import re\n",
        "\n",
        "test = '''\n",
        "2-4,6-8\n",
        "2-3,4-5\n",
        "5-7,7-9\n",
        "2-8,3-7\n",
        "6-6,4-6\n",
        "2-6,4-8\n",
        "'''\n",
        "\n",
        "assignment_extracter = re.compile('(\\d+)-(\\d+),(\\d+)-(\\d+)')\n",
        "\n",
        "total = 0\n",
        "for line in data.strip().split('\\n'):\n",
        "    f_lower, f_upper, s_lower, s_upper = assignment_extracter.match(line.strip()).groups()\n",
        "    first = set(range(int(f_lower), int(f_upper) + 1))\n",
        "    second = set(range(int(s_lower), int(s_upper) + 1))\n",
        "    if first <= second or second <= first:\n",
        "        total += 1\n",
        "\n",
        "print(total)"
      ],
      "metadata": {
        "colab": {
          "base_uri": "https://localhost:8080/"
        },
        "id": "c2TySrWO2QQo",
        "outputId": "bcf69bc5-bc42-43fc-bf74-218d6b0194b0"
      },
      "execution_count": 17,
      "outputs": [
        {
          "output_type": "stream",
          "name": "stdout",
          "text": [
            "528\n"
          ]
        }
      ]
    },
    {
      "cell_type": "code",
      "source": [
        "assignment_extracter = re.compile('(\\d+)-(\\d+),(\\d+)-(\\d+)')\n",
        "\n",
        "total = 0\n",
        "for line in data.strip().split('\\n'):\n",
        "    f_lower, f_upper, s_lower, s_upper = assignment_extracter.match(line.strip()).groups()\n",
        "    first = set(range(int(f_lower), int(f_upper) + 1))\n",
        "    second = set(range(int(s_lower), int(s_upper) + 1))\n",
        "    if not first.isdisjoint(second):\n",
        "        total += 1\n",
        "\n",
        "print(total)"
      ],
      "metadata": {
        "colab": {
          "base_uri": "https://localhost:8080/"
        },
        "id": "9U7R9R6X4pzI",
        "outputId": "87561a90-d105-468f-81bc-a0c78226d964"
      },
      "execution_count": 18,
      "outputs": [
        {
          "output_type": "stream",
          "name": "stdout",
          "text": [
            "881\n"
          ]
        }
      ]
    }
  ]
}