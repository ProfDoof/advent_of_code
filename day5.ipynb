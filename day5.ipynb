{
  "nbformat": 4,
  "nbformat_minor": 0,
  "metadata": {
    "colab": {
      "provenance": [],
      "mount_file_id": "1_WpnxlyfqyE9SWbxAWW25jD-M3HT_aPq",
      "authorship_tag": "ABX9TyPuTnLuSPbZh13G7RbVBwNS",
      "include_colab_link": true
    },
    "kernelspec": {
      "name": "python3",
      "display_name": "Python 3"
    },
    "language_info": {
      "name": "python"
    }
  },
  "cells": [
    {
      "cell_type": "markdown",
      "metadata": {
        "id": "view-in-github",
        "colab_type": "text"
      },
      "source": [
        "<a href=\"https://colab.research.google.com/github/ProfDoof/advent_of_code/blob/2022/day5.ipynb\" target=\"_parent\"><img src=\"https://colab.research.google.com/assets/colab-badge.svg\" alt=\"Open In Colab\"/></a>"
      ]
    },
    {
      "cell_type": "code",
      "execution_count": 11,
      "metadata": {
        "id": "4C2MqsfbC37K"
      },
      "outputs": [],
      "source": [
        "from pathlib import Path\n",
        "\n",
        "DAY = 5\n",
        "DATA_FILE = Path.cwd() / 'drive' / 'MyDrive' / 'AdventOfCode' / 'aoc_data' / f'day{DAY}.txt'\n",
        "\n",
        "data = DATA_FILE.read_text()"
      ]
    },
    {
      "cell_type": "markdown",
      "source": [
        "## Prompt"
      ],
      "metadata": {
        "id": "Qv_gTWBvSaT5"
      }
    },
    {
      "cell_type": "markdown",
      "source": [
        "The expedition can depart as soon as the final supplies have been unloaded from the ships. Supplies are stored in stacks of marked crates, but because the needed supplies are buried under many other crates, the crates need to be rearranged.\n",
        "\n",
        "The ship has a giant cargo crane capable of moving crates between stacks. To ensure none of the crates get crushed or fall over, the crane operator will rearrange them in a series of carefully-planned steps. After the crates are rearranged, the desired crates will be at the top of each stack.\n",
        "\n",
        "The Elves don't want to interrupt the crane operator during this delicate procedure, but they forgot to ask her which crate will end up where, and they want to be ready to unload them as soon as possible so they can embark.\n",
        "\n",
        "They do, however, have a drawing of the starting stacks of crates and the rearrangement procedure (your puzzle input). For example:\n",
        "\n",
        "```\n",
        "    [D]    \n",
        "[N] [C]    \n",
        "[Z] [M] [P]\n",
        " 1   2   3 \n",
        "\n",
        "\n",
        "move 1 from 2 to 1\n",
        "move 3 from 1 to 3\n",
        "move 2 from 2 to 1\n",
        "move 1 from 1 to 2\n",
        "```\n",
        "\n",
        "In this example, there are three stacks of crates. Stack 1 contains two crates: crate Z is on the bottom, and crate N is on top. Stack 2 contains three crates; from bottom to top, they are crates M, C, and D. Finally, stack 3 contains a single crate, P.\n",
        "\n",
        "Then, the rearrangement procedure is given. In each step of the procedure, a quantity of crates is moved from one stack to a different stack. In the first step of the above rearrangement procedure, one crate is moved from stack 2 to stack 1, resulting in this configuration:\n",
        "\n",
        "```\n",
        "[D]        \n",
        "[N] [C]    \n",
        "[Z] [M] [P]\n",
        " 1   2   3 \n",
        "```\n",
        "\n",
        "In the second step, three crates are moved from stack 1 to stack 3. Crates are moved one at a time, so the first crate to be moved (D) ends up below the second and third crates:\n",
        "\n",
        "```\n",
        "        [Z]\n",
        "        [N]\n",
        "    [C] [D]\n",
        "    [M] [P]\n",
        " 1   2   3\n",
        "```\n",
        "\n",
        "Then, both crates are moved from stack 2 to stack 1. Again, because crates are moved one at a time, crate C ends up below crate M:\n",
        "\n",
        "```\n",
        "        [Z]\n",
        "        [N]\n",
        "[M]     [D]\n",
        "[C]     [P]\n",
        " 1   2   3\n",
        "```\n",
        "Finally, one crate is moved from stack 1 to stack 2:\n",
        "\n",
        "```\n",
        "        [Z]\n",
        "        [N]\n",
        "        [D]\n",
        "[C] [M] [P]\n",
        " 1   2   3\n",
        "```\n",
        "\n",
        "The Elves just need to know which crate will end up on top of each stack; in this example, the top crates are C in stack 1, M in stack 2, and Z in stack 3, so you should combine these together and give the Elves the message CMZ.\n",
        "\n",
        "After the rearrangement procedure completes, what crate ends up on top of each stack?"
      ],
      "metadata": {
        "id": "7H6YPQRJScee"
      }
    },
    {
      "cell_type": "code",
      "source": [
        "import re\n",
        "\n",
        "split_data = data.split('\\n\\n')\n",
        "\n",
        "crates = split_data[0]\n",
        "instr = split_data[1]\n",
        "\n",
        "crate_it = reversed(crates.replace('    ', ' [ignored]').split('\\n'))\n",
        "\n",
        "stacks_map = {}\n",
        "stacks = []\n",
        "\n",
        "for idx, stack in enumerate(next(crate_it).split()):\n",
        "    stacks_map[stack.strip()] = idx\n",
        "    stacks.append([])\n",
        "\n",
        "for line in crate_it:\n",
        "    for idx, crate in enumerate(line.split()):\n",
        "        crate = crate.strip().strip('[]')\n",
        "        if crate != 'ignored':\n",
        "            stacks[idx].append(crate)\n",
        "\n",
        "\n",
        "instr_re = re.compile('move (\\d+) from (\\d+) to (\\d+)')\n",
        "for line in instr.strip().split('\\n'):\n",
        "    num_move, from_, to_ = instr_re.match(line.strip()).groups()\n",
        "    for i in range(int(num_move)):\n",
        "        stacks[stacks_map[to_]].append(stacks[stacks_map[from_]].pop())\n",
        "\n",
        "print(''.join([stack[-1] for stack in stacks]))"
      ],
      "metadata": {
        "colab": {
          "base_uri": "https://localhost:8080/"
        },
        "id": "QlXatp_7Sbmd",
        "outputId": "a850c8e5-a4c3-4d9f-fd27-fcbaf7b73903"
      },
      "execution_count": 27,
      "outputs": [
        {
          "output_type": "stream",
          "name": "stdout",
          "text": [
            "WHTLRMZRC\n"
          ]
        }
      ]
    },
    {
      "cell_type": "code",
      "source": [
        "import re\n",
        "\n",
        "split_data = data.split('\\n\\n')\n",
        "\n",
        "crates = split_data[0]\n",
        "instr = split_data[1]\n",
        "\n",
        "crate_it = reversed(crates.replace('    ', ' [ignored]').split('\\n'))\n",
        "\n",
        "stacks_map = {}\n",
        "stacks = []\n",
        "\n",
        "for idx, stack in enumerate(next(crate_it).split()):\n",
        "    stacks_map[stack.strip()] = idx\n",
        "    stacks.append([])\n",
        "\n",
        "for line in crate_it:\n",
        "    for idx, crate in enumerate(line.split()):\n",
        "        crate = crate.strip().strip('[]')\n",
        "        if crate != 'ignored':\n",
        "            stacks[idx].append(crate)\n",
        "\n",
        "\n",
        "instr_re = re.compile('move (\\d+) from (\\d+) to (\\d+)')\n",
        "for line in instr.strip().split('\\n'):\n",
        "    num_move, from_, to_ = instr_re.match(line.strip()).groups()\n",
        "    stacks[stacks_map[to_]].extend(stacks[stacks_map[from_]][-int(num_move):])\n",
        "    del stacks[stacks_map[from_]][-int(num_move):]\n",
        "\n",
        "print(''.join([stack[-1] for stack in stacks]))"
      ],
      "metadata": {
        "colab": {
          "base_uri": "https://localhost:8080/"
        },
        "id": "I5Z233aBYpd-",
        "outputId": "c549f125-a7de-4b0e-a71e-3a4ef8a94e9b"
      },
      "execution_count": 37,
      "outputs": [
        {
          "output_type": "stream",
          "name": "stdout",
          "text": [
            "GMPMLWNMG\n"
          ]
        }
      ]
    }
  ]
}