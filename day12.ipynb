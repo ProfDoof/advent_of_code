{
  "nbformat": 4,
  "nbformat_minor": 0,
  "metadata": {
    "colab": {
      "provenance": [],
      "mount_file_id": "15wQBl3e3p9S4vSSwg_06hOJoGB7o-pto",
      "authorship_tag": "ABX9TyO3fQHSEiItNCYBoqtl+0NN",
      "include_colab_link": true
    },
    "kernelspec": {
      "name": "python3",
      "display_name": "Python 3"
    },
    "language_info": {
      "name": "python"
    }
  },
  "cells": [
    {
      "cell_type": "markdown",
      "metadata": {
        "id": "view-in-github",
        "colab_type": "text"
      },
      "source": [
        "<a href=\"https://colab.research.google.com/github/ProfDoof/advent_of_code/blob/2022/day12.ipynb\" target=\"_parent\"><img src=\"https://colab.research.google.com/assets/colab-badge.svg\" alt=\"Open In Colab\"/></a>"
      ]
    },
    {
      "cell_type": "markdown",
      "source": [
        "# Day "
      ],
      "metadata": {
        "id": "V8_6M7F6uuvW"
      }
    },
    {
      "cell_type": "markdown",
      "source": [
        "## Load Data"
      ],
      "metadata": {
        "id": "uEPsbWt_uzlM"
      }
    },
    {
      "cell_type": "code",
      "execution_count": null,
      "metadata": {
        "id": "4C2MqsfbC37K"
      },
      "outputs": [],
      "source": [
        "from pathlib import Path\n",
        "\n",
        "DAY = 12\n",
        "DATA_FILE = Path.cwd() / 'drive' / 'MyDrive' / 'AdventOfCode' / 'aoc_data' / f'day{DAY}.txt'\n",
        "\n",
        "data = DATA_FILE.read_text()"
      ]
    },
    {
      "cell_type": "markdown",
      "source": [
        "## Solution"
      ],
      "metadata": {
        "id": "oZr_LgNBuxkM"
      }
    },
    {
      "cell_type": "code",
      "source": [
        "test = '''\n",
        "Sabqponm\n",
        "abcryxxl\n",
        "accszExk\n",
        "acctuvwj\n",
        "abdefghi\n",
        "'''"
      ],
      "metadata": {
        "id": "3eUVpp9gs_0Y"
      },
      "execution_count": null,
      "outputs": []
    },
    {
      "cell_type": "code",
      "source": [
        "import pprint\n",
        "from queue import PriorityQueue\n",
        "from typing import List, Tuple, Callable\n",
        "from math import inf\n",
        "\n",
        "i_data = test\n",
        "\n",
        "def get_map(i_data: str):\n",
        "    start_pos = None\n",
        "    end_pos = None\n",
        "\n",
        "    def calculate_elevation(row: int, col: int, c: str):\n",
        "        nonlocal start_pos\n",
        "        nonlocal end_pos\n",
        "        if c == 'S':\n",
        "            start_pos = (row, col)\n",
        "            c = 'a'\n",
        "        elif c == 'E':\n",
        "            end_pos = (row, col)\n",
        "            c = 'z'\n",
        "        \n",
        "        return ord(c) - ord('a')\n",
        "\n",
        "    map = [[calculate_elevation(row_idx, col_idx, ele) for col_idx, ele in enumerate(row)] for row_idx, row in enumerate(i_data.strip().split('\\n'))]\n",
        "    return map, start_pos, end_pos\n",
        "\n",
        "map, start_pos, end_pos = get_map(test)\n",
        "\n",
        "def get_elevation(row: int, col: int):\n",
        "    if not 0 <= row < len(map):\n",
        "        return None\n",
        "\n",
        "    if not 0 <= col < len(map[row]):\n",
        "        return None\n",
        "    \n",
        "    return map[row][col]\n",
        "\n",
        "\n",
        "def is_neighbor_valid_part1(pos: Tuple[int, int], current_elevation: int):\n",
        "    row, col = pos\n",
        "    return 0 <= row < len(map) and 0 <= col < len(map[row]) and map[row][col] <= current_elevation + 1\n",
        "\n",
        "\n",
        "def is_neighbor_valid_part2(pos: Tuple[int, int], current_elevation: int):\n",
        "    row, col = pos\n",
        "    return 0 <= row < len(map) and 0 <= col < len(map[row]) and map[row][col] >= current_elevation - 1\n",
        "\n",
        "\n",
        "def get_neighbors(pos: Tuple[int, int], is_neighbor_valid: Callable[[Tuple[int, int], int], bool]):\n",
        "    row, col = pos\n",
        "    current_elevation = map[row][col]\n",
        "\n",
        "    neighbors = [(row - 1, col), (row + 1, col), (row, col + 1), (row, col - 1)]\n",
        "    return [neighbor for neighbor in neighbors if is_neighbor_valid(neighbor, current_elevation)]\n",
        "\n",
        "\n",
        "def find_shortest_path_length(start_pos: Tuple[int, int], end_condition: Callable[[Tuple[int, int]], bool], is_neighbor_valid: Callable[[Tuple[int, int], int], bool]):\n",
        "    current = (0, start_pos)\n",
        "    fringe = PriorityQueue()\n",
        "    fringe.put(current)\n",
        "    distances = {start_pos: 0}\n",
        "    already_in_fringe = set()\n",
        "    while fringe.not_empty:\n",
        "        steps, current = fringe.get()\n",
        "        if end_condition(current):\n",
        "            return steps\n",
        "\n",
        "        neighbors = get_neighbors(current, is_neighbor_valid)\n",
        "        current_distance = distances[current]\n",
        "        for neighbor in neighbors:\n",
        "            new_distance = current_distance + 1\n",
        "            neighbor_distance = distances.get(neighbor, inf)\n",
        "            if new_distance < neighbor_distance:\n",
        "                distances[neighbor] = new_distance\n",
        "                fringe.put((new_distance, neighbor))\n",
        "\n",
        "print(find_shortest_path_length(start_pos, lambda x: x == end_pos, is_neighbor_valid_part1))\n",
        "print(find_shortest_path_length(end_pos, lambda x: map[x[0]][x[1]] == 0, is_neighbor_valid_part2))"
      ],
      "metadata": {
        "colab": {
          "base_uri": "https://localhost:8080/"
        },
        "id": "awqza65LtUeu",
        "outputId": "2383383e-dc60-4e38-b1d2-a3a62c4605d0"
      },
      "execution_count": null,
      "outputs": [
        {
          "output_type": "stream",
          "name": "stdout",
          "text": [
            "31\n",
            "29\n"
          ]
        }
      ]
    },
    {
      "cell_type": "code",
      "source": [],
      "metadata": {
        "colab": {
          "base_uri": "https://localhost:8080/"
        },
        "id": "SfXiXblXet6W",
        "outputId": "b853c31c-796b-4cae-e441-61ae63c41eb3"
      },
      "execution_count": null,
      "outputs": [
        {
          "output_type": "execute_result",
          "data": {
            "text/plain": [
              "1"
            ]
          },
          "metadata": {},
          "execution_count": 16
        }
      ]
    }
  ]
}