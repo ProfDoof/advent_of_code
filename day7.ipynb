{
  "nbformat": 4,
  "nbformat_minor": 0,
  "metadata": {
    "colab": {
      "provenance": [],
      "mount_file_id": "1hmQs1iO0-B6KNxiptChdPos5M3WcgI9i",
      "authorship_tag": "ABX9TyOvF/t6bNwlpBSfaQW3dzoq",
      "include_colab_link": true
    },
    "kernelspec": {
      "name": "python3",
      "display_name": "Python 3"
    },
    "language_info": {
      "name": "python"
    }
  },
  "cells": [
    {
      "cell_type": "markdown",
      "metadata": {
        "id": "view-in-github",
        "colab_type": "text"
      },
      "source": [
        "<a href=\"https://colab.research.google.com/github/ProfDoof/advent_of_code/blob/2022/day7.ipynb\" target=\"_parent\"><img src=\"https://colab.research.google.com/assets/colab-badge.svg\" alt=\"Open In Colab\"/></a>"
      ]
    },
    {
      "cell_type": "markdown",
      "source": [
        "# Day "
      ],
      "metadata": {
        "id": "V8_6M7F6uuvW"
      }
    },
    {
      "cell_type": "markdown",
      "source": [
        "## Load Data"
      ],
      "metadata": {
        "id": "uEPsbWt_uzlM"
      }
    },
    {
      "cell_type": "code",
      "execution_count": 1,
      "metadata": {
        "id": "4C2MqsfbC37K"
      },
      "outputs": [],
      "source": [
        "from pathlib import Path\n",
        "\n",
        "DAY = 7\n",
        "DATA_FILE = Path.cwd() / 'drive' / 'MyDrive' / 'AdventOfCode' / 'aoc_data' / f'day{DAY}.txt'\n",
        "\n",
        "data = DATA_FILE.read_text()"
      ]
    },
    {
      "cell_type": "markdown",
      "source": [
        "## Solution"
      ],
      "metadata": {
        "id": "oZr_LgNBuxkM"
      }
    },
    {
      "cell_type": "code",
      "source": [
        "from typing import Tuple, Optional, NamedTuple, List\n",
        "import re\n",
        "\n",
        "test = '''\n",
        "$ cd /\n",
        "$ ls\n",
        "dir a\n",
        "14848514 b.txt\n",
        "8504156 c.dat\n",
        "dir d\n",
        "$ cd a\n",
        "$ ls\n",
        "dir e\n",
        "29116 f\n",
        "2557 g\n",
        "62596 h.lst\n",
        "$ cd e\n",
        "$ ls\n",
        "584 i\n",
        "$ cd ..\n",
        "$ cd ..\n",
        "$ cd d\n",
        "$ ls\n",
        "4060174 j\n",
        "8033020 d.log\n",
        "5626152 d.ext\n",
        "7214296 k\n",
        "'''\n",
        "\n",
        "class Dir(NamedTuple):\n",
        "    name: str\n",
        "    files: List[Tuple[str, int]]\n",
        "    dirs: List['Dir']\n",
        "    parent: Optional['Dir']\n",
        "\n",
        "    def __str__(self) -> str:\n",
        "        n = f' - {self.name}'\n",
        "        f = '\\n'.join([f'\\t - {fn} ({s})' for fn, s in self.files])\n",
        "        d = '\\n'.join([str(dir) for dir in self.dirs])\n",
        "        d = '\\n'.join([f'\\t{l}' for l in list(d.split('\\n'))])\n",
        "        return f'{n}\\n{f}\\n{d}'\n",
        "\n",
        "\n",
        "root = Dir('/', [], [], None)\n",
        "\n",
        "\n",
        "def add_dir(dir_name: str, curr_dir: Dir):\n",
        "    try:\n",
        "        return next(d for d in curr_dir.dirs if d.name == dir_name)\n",
        "    except:\n",
        "        new_dir = Dir(dir_name, [], [], curr_dir)\n",
        "        curr_dir.dirs.append(new_dir)\n",
        "        return new_dir\n",
        "\n",
        "def cd(path: str, curr_dir: Dir) -> Dir:\n",
        "    if path == '..':\n",
        "        return curr_dir.parent\n",
        "    elif path == '/':\n",
        "        return root\n",
        "    \n",
        "    return add_dir(path, curr_dir)\n",
        "\n",
        "\n",
        "def command(c: str, curr_dir: Dir):\n",
        "    if c.startswith('cd '):\n",
        "        return cd(c[3:], curr_dir)\n",
        "    else:\n",
        "        return curr_dir\n",
        "\n",
        "file_matcher = re.compile('(\\d+) (.+)')\n",
        "\n",
        "top_curr_dir = root\n",
        "for line in data.strip().split('\\n'):\n",
        "    if line.startswith('$ '):\n",
        "        top_curr_dir = command(line[2:], top_curr_dir)\n",
        "    elif line.startswith('dir '):\n",
        "        add_dir(line[4:], top_curr_dir)\n",
        "    else:\n",
        "        size, name = file_matcher.match(line).groups()\n",
        "        top_curr_dir.files.append((name, int(size)))\n",
        "\n",
        "def part1(curr_dir: Dir):\n",
        "    total = 0\n",
        "    less_than_100k = []\n",
        "    for dir in curr_dir.dirs:\n",
        "        size, found = part1(dir)\n",
        "        total += size\n",
        "        less_than_100k.extend(found)\n",
        "    \n",
        "    for fname, fsize in curr_dir.files:\n",
        "        total += fsize\n",
        "\n",
        "    if total <= 100000:\n",
        "        less_than_100k.append(total)\n",
        "    \n",
        "    return total, less_than_100k\n",
        "\n",
        "root_size, all_less_than_100k = part1(root)\n",
        "print('Part 1 Answer: ', sum(all_less_than_100k))\n",
        "\n",
        "TOTAL_SPACE = 70000000\n",
        "UNUSED_SPACE = 30000000\n",
        "\n",
        "def part2(curr_dir: Dir, needed: int):\n",
        "    total = 0\n",
        "    smallest = root_size\n",
        "    for dir in curr_dir.dirs:\n",
        "        size, found = part2(dir, needed)\n",
        "        total += size\n",
        "        smallest = min(found, smallest)\n",
        "    \n",
        "    for fname, fsize in curr_dir.files:\n",
        "        total += fsize\n",
        "\n",
        "    if total >= needed:\n",
        "        smallest = min(total, smallest)\n",
        "    \n",
        "    return total, smallest\n",
        "\n",
        "root_size, smallest_needed = part2(root, UNUSED_SPACE - (TOTAL_SPACE - root_size))\n",
        "print('Part 2 Answer: ', smallest_needed)"
      ],
      "metadata": {
        "colab": {
          "base_uri": "https://localhost:8080/"
        },
        "id": "_S5-v6AJ9qhD",
        "outputId": "e6af631a-9a72-4af2-ba55-148c1c9072ea"
      },
      "execution_count": 36,
      "outputs": [
        {
          "output_type": "stream",
          "name": "stdout",
          "text": [
            "Part 1 Answer:  1583951\n",
            "Part 2 Answer:  214171\n"
          ]
        }
      ]
    }
  ]
}