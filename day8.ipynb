{
  "nbformat": 4,
  "nbformat_minor": 0,
  "metadata": {
    "colab": {
      "provenance": [],
      "mount_file_id": "1DX_PA7SI3wPkT84LmmUlkbo8uBzHW_uo",
      "authorship_tag": "ABX9TyOeRWMcDPvgoqZnn6xzuqpo",
      "include_colab_link": true
    },
    "kernelspec": {
      "name": "python3",
      "display_name": "Python 3"
    },
    "language_info": {
      "name": "python"
    }
  },
  "cells": [
    {
      "cell_type": "markdown",
      "metadata": {
        "id": "view-in-github",
        "colab_type": "text"
      },
      "source": [
        "<a href=\"https://colab.research.google.com/github/ProfDoof/advent_of_code/blob/2022/day8.ipynb\" target=\"_parent\"><img src=\"https://colab.research.google.com/assets/colab-badge.svg\" alt=\"Open In Colab\"/></a>"
      ]
    },
    {
      "cell_type": "markdown",
      "source": [
        "# Day "
      ],
      "metadata": {
        "id": "V8_6M7F6uuvW"
      }
    },
    {
      "cell_type": "markdown",
      "source": [
        "## Load Data"
      ],
      "metadata": {
        "id": "uEPsbWt_uzlM"
      }
    },
    {
      "cell_type": "code",
      "execution_count": 1,
      "metadata": {
        "id": "4C2MqsfbC37K"
      },
      "outputs": [],
      "source": [
        "from pathlib import Path\n",
        "\n",
        "DAY = 8\n",
        "DATA_FILE = Path.cwd() / 'drive' / 'MyDrive' / 'AdventOfCode' / 'aoc_data' / f'day{DAY}.txt'\n",
        "\n",
        "data = DATA_FILE.read_text()\n",
        "\n",
        "test = '''\n",
        "30373\n",
        "25512\n",
        "65332\n",
        "33549\n",
        "35390\n",
        "'''"
      ]
    },
    {
      "cell_type": "markdown",
      "source": [
        "## Solution"
      ],
      "metadata": {
        "id": "oZr_LgNBuxkM"
      }
    },
    {
      "cell_type": "code",
      "source": [
        "from typing import List, Optional\n",
        "from enum import Enum, auto\n",
        "import pprint\n",
        "import itertools\n",
        "\n",
        "tree_heights: List[List[int]] = []\n",
        "\n",
        "for line in data.strip().split('\\n'):\n",
        "    tree_heights.append([])\n",
        "    for tree in line:\n",
        "        tree_height = int(tree)\n",
        "        tree_heights[-1].append(tree_height)\n",
        "\n",
        "n_max_trees: List[List[Optional[int]]] = []\n",
        "e_max_trees: List[List[Optional[int]]] = []\n",
        "s_max_trees: List[List[Optional[int]]] = []\n",
        "w_max_trees: List[List[Optional[int]]] = []\n",
        "\n",
        "for trees in tree_heights:\n",
        "    n_max_trees.append([])\n",
        "    e_max_trees.append([])\n",
        "    s_max_trees.append([])\n",
        "    w_max_trees.append([])\n",
        "    for tree in trees:\n",
        "        n_max_trees[-1].append(None)\n",
        "        e_max_trees[-1].append(None)\n",
        "        s_max_trees[-1].append(None)\n",
        "        w_max_trees[-1].append(None)\n",
        "\n",
        "\n",
        "class Direction(Enum):\n",
        "    North = auto()\n",
        "    East = auto()\n",
        "    South = auto()\n",
        "    West = auto()\n",
        "\n",
        "\n",
        "def __get_max_height(kb: List[List[Optional[int]]], row: int, col: int, dir: Direction):\n",
        "    if row < 0 or row >= len(tree_heights) or col < 0 or col >= len(tree_heights[row]):\n",
        "        return -1\n",
        "\n",
        "    if kb[row][col] is None:\n",
        "        max_height = get_max_height_in_dir(row, col, dir)\n",
        "        kb[row][col] = max(tree_heights[row][col], max_height)\n",
        "    \n",
        "    return kb[row][col]\n",
        "\n",
        "def get_max_height_in_dir(row: int, col: int, dir: Direction):\n",
        "    if dir == Direction.North:\n",
        "        return __get_max_height(n_max_trees, row - 1, col, dir)\n",
        "    elif dir == Direction.South:\n",
        "        return __get_max_height(s_max_trees, row + 1, col, dir)\n",
        "    elif dir == Direction.East:\n",
        "        return __get_max_height(e_max_trees, row, col + 1, dir)\n",
        "    elif dir == Direction.West:\n",
        "        return __get_max_height(w_max_trees, row, col - 1, dir)\n",
        "\n",
        "\n",
        "visible_trees: List[List[str]] = []\n",
        "\n",
        "for row_idx, trees in enumerate(tree_heights):\n",
        "    visible_trees.append([])\n",
        "    for col_idx, tree in enumerate(trees):\n",
        "        n_max_height = get_max_height_in_dir(row_idx, col_idx, Direction.North)\n",
        "        e_max_height = get_max_height_in_dir(row_idx, col_idx, Direction.East)\n",
        "        s_max_height = get_max_height_in_dir(row_idx, col_idx, Direction.South)\n",
        "        w_max_height = get_max_height_in_dir(row_idx, col_idx, Direction.West)\n",
        "\n",
        "        if any([tree > h for h in [n_max_height, e_max_height, s_max_height, w_max_height]]):\n",
        "            visible_trees[-1].append('V')\n",
        "        else:\n",
        "            visible_trees[-1].append('.')\n",
        "\n",
        "num_vis_trees = len(list(filter(lambda x: x == 'V', itertools.chain.from_iterable(visible_trees))))\n",
        "print(f'There are {num_vis_trees} visible trees')\n",
        "\n",
        "def get_tree_in_dir(row: int, col: int, dir: Direction):\n",
        "    if dir == Direction.North:\n",
        "        row = row - 1\n",
        "    elif dir == Direction.South:\n",
        "        row = row + 1\n",
        "    elif dir == Direction.East:\n",
        "        col = col + 1\n",
        "    elif dir == Direction.West:\n",
        "        col = col - 1\n",
        "    if row < 0 or col < 0:\n",
        "        raise IndexError()\n",
        "\n",
        "    return row, col, tree_heights[row][col]\n",
        "\n",
        "\n",
        "def get_view_score_in_dir(row: int, col: int, dir: Direction):\n",
        "    height = tree_heights[row][col]\n",
        "    view = 0\n",
        "    while True:\n",
        "        try:\n",
        "            row, col, dir_tree = get_tree_in_dir(row, col, dir)\n",
        "            if dir_tree >= height:\n",
        "                view += 1\n",
        "                break\n",
        "    \n",
        "            view += 1\n",
        "        except IndexError:\n",
        "            break\n",
        "    return view\n",
        "\n",
        "highest_scenic_score = 0\n",
        "scenic_scores = []\n",
        "\n",
        "for row_idx, trees in enumerate(tree_heights):\n",
        "    scenic_scores.append([])\n",
        "    for col_idx, tree in enumerate(trees):\n",
        "        n_view = get_view_score_in_dir(row_idx, col_idx, Direction.North)\n",
        "        e_view = get_view_score_in_dir(row_idx, col_idx, Direction.East)\n",
        "        s_view = get_view_score_in_dir(row_idx, col_idx, Direction.South)\n",
        "        w_view = get_view_score_in_dir(row_idx, col_idx, Direction.West)\n",
        "\n",
        "        highest_scenic_score = max(highest_scenic_score, n_view * e_view * s_view * w_view)\n",
        "        scenic_scores[-1].append(n_view * e_view * s_view * w_view)\n",
        "\n",
        "# pprint.pp(scenic_scores)\n",
        "print(f'The highest possible scenic score is {highest_scenic_score}')"
      ],
      "metadata": {
        "colab": {
          "base_uri": "https://localhost:8080/"
        },
        "id": "ukGgxLWBSkNH",
        "outputId": "b6f624b8-8011-4b85-83df-510d89edb976"
      },
      "execution_count": 26,
      "outputs": [
        {
          "output_type": "stream",
          "name": "stdout",
          "text": [
            "There are 1543 visible trees\n",
            "The highest possible scenic score is 595080\n"
          ]
        }
      ]
    }
  ]
}