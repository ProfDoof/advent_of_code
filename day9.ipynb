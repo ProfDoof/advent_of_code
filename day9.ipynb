{
  "nbformat": 4,
  "nbformat_minor": 0,
  "metadata": {
    "colab": {
      "provenance": [],
      "mount_file_id": "1nPlRlGrI0ljXvI0x045LG74es_qltM8E",
      "authorship_tag": "ABX9TyMaWUL6W7xmVwPwWsYQD5EG",
      "include_colab_link": true
    },
    "kernelspec": {
      "name": "python3",
      "display_name": "Python 3"
    },
    "language_info": {
      "name": "python"
    }
  },
  "cells": [
    {
      "cell_type": "markdown",
      "metadata": {
        "id": "view-in-github",
        "colab_type": "text"
      },
      "source": [
        "<a href=\"https://colab.research.google.com/github/ProfDoof/advent_of_code/blob/2022/day9.ipynb\" target=\"_parent\"><img src=\"https://colab.research.google.com/assets/colab-badge.svg\" alt=\"Open In Colab\"/></a>"
      ]
    },
    {
      "cell_type": "markdown",
      "source": [
        "# Day "
      ],
      "metadata": {
        "id": "V8_6M7F6uuvW"
      }
    },
    {
      "cell_type": "markdown",
      "source": [
        "## Load Data"
      ],
      "metadata": {
        "id": "uEPsbWt_uzlM"
      }
    },
    {
      "cell_type": "code",
      "execution_count": 1,
      "metadata": {
        "id": "4C2MqsfbC37K"
      },
      "outputs": [],
      "source": [
        "from pathlib import Path\n",
        "\n",
        "DAY = 9\n",
        "DATA_FILE = Path.cwd() / 'drive' / 'MyDrive' / 'AdventOfCode' / 'aoc_data' / f'day{DAY}.txt'\n",
        "\n",
        "data = DATA_FILE.read_text()"
      ]
    },
    {
      "cell_type": "markdown",
      "source": [
        "## Solution"
      ],
      "metadata": {
        "id": "oZr_LgNBuxkM"
      }
    },
    {
      "cell_type": "code",
      "source": [
        "from dataclasses import dataclass\n",
        "from enum import Enum, auto\n",
        "from math import copysign\n",
        "from typing import Tuple\n",
        "from pprint import pprint\n",
        "\n",
        "test = '''\n",
        "R 4\n",
        "U 4\n",
        "L 3\n",
        "D 1\n",
        "R 4\n",
        "D 1\n",
        "L 5\n",
        "R 2\n",
        "'''\n",
        "\n",
        "larger_test = '''\n",
        "R 5\n",
        "U 8\n",
        "L 8\n",
        "D 3\n",
        "R 17\n",
        "D 10\n",
        "L 25\n",
        "U 20\n",
        "'''\n",
        "\n",
        "class Direction(Enum):\n",
        "    Up = 'U'\n",
        "    Right = 'R'\n",
        "    Down = 'D'\n",
        "    Left = 'L'\n",
        "\n",
        "@dataclass\n",
        "class Point:\n",
        "    x: int\n",
        "    y: int\n",
        "\n",
        "    def to_tuple(self) -> Tuple[int, int]:\n",
        "        return (self.x, self.y)\n",
        "\n",
        "class Rope:\n",
        "    def __init__(self, num_knots: int):\n",
        "        self.knots = [Point(0, 0) for i in range(num_knots)]\n",
        "        self.visited = {self.knots[-1].to_tuple()}\n",
        "\n",
        "    # def __str__(self) -> str:\n",
        "    #     y_width = max(abs(min([k.y for k in self.knots])), abs(max([k.y for k in self.knots])))\n",
        "    #     x_width = max(abs(min([k.x for k in self.knots])), abs(max([k.x for k in self.knots])))\n",
        "\n",
        "    #     map = [['.' for c in range(-x_width, x_width + 1)] for r in range(-y_width, y_width + 1)]\n",
        "\n",
        "    #     for i, knot in enumerate(self.knots):\n",
        "    #         if map[knot.y + y_width][knot.x + x_width] == '.':\n",
        "    #             map[knot.y + y_width][knot.x + x_width] = str(i) if i > 0 else 'H'\n",
        "        \n",
        "    #     map[y_width][x_width] = 'S'\n",
        "    #     map = '\\n'.join(reversed([' '.join(row) for row in map]))\n",
        "\n",
        "    #     return f'Map\\n{map}' # , Visited: {self.visited}\n",
        "\n",
        "    def move_head(self, dir: Direction, num_times: int):\n",
        "        for i in range(num_times):\n",
        "            self.__move_head(dir)\n",
        "\n",
        "    def __move_head(self, dir: Direction):\n",
        "        # print(f'Original: \\n{self}\\n\\n')\n",
        "        if dir is Direction.Up:\n",
        "            self.knots[0].y += 1\n",
        "        elif dir is Direction.Down:\n",
        "            self.knots[0].y -= 1\n",
        "        elif dir is Direction.Right:\n",
        "            self.knots[0].x += 1\n",
        "        else:\n",
        "            self.knots[0].x -= 1\n",
        "\n",
        "        first_it = iter(self.knots)\n",
        "        second_it = iter(self.knots)\n",
        "        next(second_it)\n",
        "        # print(f'After moving head {dir}: \\n{self}\\n\\n')\n",
        "        for i, (prev_knot, cur_knot) in enumerate(zip(first_it, second_it)):\n",
        "            self.__update_knot(prev_knot, cur_knot)\n",
        "            # print(f'After update {i}\\n{self}\\n\\n')\n",
        "\n",
        "        self.visited.add(self.knots[-1].to_tuple())\n",
        "\n",
        "    def __update_knot(self, prev_knot: Point, cur_knot: Point):\n",
        "        row_diff = prev_knot.y - cur_knot.y\n",
        "        col_diff = prev_knot.x - cur_knot.x\n",
        "        row_change = 0\n",
        "        col_change = 0\n",
        "        \n",
        "        if abs(row_diff) < 2 and abs(col_diff) < 2:\n",
        "            return\n",
        "\n",
        "        if abs(row_diff) + abs(col_diff) == 3:\n",
        "            row_change += int(copysign(1, row_diff) if abs(row_diff) < abs(col_diff) else 0)\n",
        "            col_change += int(copysign(1, col_diff) if abs(col_diff) < abs(row_diff) else 0)\n",
        "        \n",
        "        if abs(row_diff) == 2:\n",
        "            row_change += int(copysign(1, row_diff))\n",
        "        if abs(col_diff) == 2:\n",
        "            col_change += int(copysign(1, col_diff))\n",
        "\n",
        "        cur_knot.x += col_change\n",
        "        cur_knot.y += row_change\n",
        "\n",
        "        \n",
        "\n",
        "    def num_positions_tail_visited(self):\n",
        "        return len(self.visited)\n",
        "\n",
        "rope = Rope(10)\n",
        "# print('Base Map')\n",
        "# print(rope)\n",
        "# print('\\n\\n')\n",
        "for line in data.strip().split('\\n'):\n",
        "    direction, distance = line.split(' ')\n",
        "    direction, distance = Direction(direction), int(distance)\n",
        "    rope.move_head(direction, distance)\n",
        "    # print(f'Map after moving {direction} {distance} units\\n{rope}\\n\\n')\n",
        "\n",
        "rope.num_positions_tail_visited()"
      ],
      "metadata": {
        "colab": {
          "base_uri": "https://localhost:8080/"
        },
        "id": "BggFQ9Wvvlnh",
        "outputId": "8007457f-a1e0-4658-8263-2592f20a74c1"
      },
      "execution_count": 64,
      "outputs": [
        {
          "output_type": "execute_result",
          "data": {
            "text/plain": [
              "2593"
            ]
          },
          "metadata": {},
          "execution_count": 64
        }
      ]
    }
  ]
}