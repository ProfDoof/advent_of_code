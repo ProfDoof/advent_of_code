{
  "nbformat": 4,
  "nbformat_minor": 0,
  "metadata": {
    "colab": {
      "provenance": [],
      "mount_file_id": "1BzHYL6ntFAgt2dstQhcxTa5LRzscnqvp",
      "authorship_tag": "ABX9TyOhsKpfgJRQgE9drY1PI0d4",
      "include_colab_link": true
    },
    "kernelspec": {
      "name": "python3",
      "display_name": "Python 3"
    },
    "language_info": {
      "name": "python"
    }
  },
  "cells": [
    {
      "cell_type": "markdown",
      "metadata": {
        "id": "view-in-github",
        "colab_type": "text"
      },
      "source": [
        "<a href=\"https://colab.research.google.com/github/ProfDoof/advent_of_code/blob/2022/day6.ipynb\" target=\"_parent\"><img src=\"https://colab.research.google.com/assets/colab-badge.svg\" alt=\"Open In Colab\"/></a>"
      ]
    },
    {
      "cell_type": "markdown",
      "source": [
        "# Day 6\n",
        "## Load Data"
      ],
      "metadata": {
        "id": "BJgn_kgXvAV8"
      }
    },
    {
      "cell_type": "code",
      "execution_count": 15,
      "metadata": {
        "id": "4C2MqsfbC37K"
      },
      "outputs": [],
      "source": [
        "from pathlib import Path\n",
        "\n",
        "DAY = 6\n",
        "DATA_FILE = Path.cwd() / 'drive' / 'MyDrive' / 'AdventOfCode' / 'aoc_data' / f'day{DAY}.txt'\n",
        "\n",
        "data = DATA_FILE.read_text()"
      ]
    },
    {
      "cell_type": "markdown",
      "source": [
        "# Solution"
      ],
      "metadata": {
        "id": "cuvFn__JvDgF"
      }
    },
    {
      "cell_type": "code",
      "source": [
        "%pip install more-itertools"
      ],
      "metadata": {
        "colab": {
          "base_uri": "https://localhost:8080/"
        },
        "id": "su_xq0XpwaE4",
        "outputId": "03cba6a5-cf4a-489e-a3e1-0c26ad15279d"
      },
      "execution_count": 1,
      "outputs": [
        {
          "output_type": "stream",
          "name": "stdout",
          "text": [
            "Looking in indexes: https://pypi.org/simple, https://us-python.pkg.dev/colab-wheels/public/simple/\n",
            "Requirement already satisfied: more-itertools in /usr/local/lib/python3.8/dist-packages (9.0.0)\n"
          ]
        }
      ]
    },
    {
      "cell_type": "code",
      "source": [
        "import more_itertools as mi\n",
        "import itertools as i\n",
        "\n",
        "def find_marker(num_chars: int):\n",
        "     print(len([x for x in i.takewhile(lambda x: len(set(x)) < num_chars, mi.sliding_window(data.strip(), num_chars))]) + num_chars)\n",
        "\n",
        "find_marker(4)"
      ],
      "metadata": {
        "colab": {
          "base_uri": "https://localhost:8080/"
        },
        "id": "jEiW8Fr9vEs_",
        "outputId": "c48013ca-5bef-481f-c352-7c7e3b6cc3b4"
      },
      "execution_count": 20,
      "outputs": [
        {
          "output_type": "stream",
          "name": "stdout",
          "text": [
            "1361\n"
          ]
        }
      ]
    },
    {
      "cell_type": "code",
      "source": [
        "find_marker(14)"
      ],
      "metadata": {
        "colab": {
          "base_uri": "https://localhost:8080/"
        },
        "id": "kFoR4WOoyOwT",
        "outputId": "2ed6fcbd-82cf-41f0-cf30-d399e66bf80f"
      },
      "execution_count": 22,
      "outputs": [
        {
          "output_type": "stream",
          "name": "stdout",
          "text": [
            "3263\n"
          ]
        }
      ]
    }
  ]
}